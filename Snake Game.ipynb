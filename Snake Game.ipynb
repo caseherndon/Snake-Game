{
 "cells": [
  {
   "cell_type": "raw",
   "id": "1036e282-0693-43d7-b085-7b71eed53a7d",
   "metadata": {},
   "source": [
    "**In this notebook, rwe54 will be creating a snake game using Python.**"
   ]
  },
  {
   "cell_type": "markdown",
   "id": "e6f3a1e5-bc2d-4051-a9bc-fb99069e3295",
   "metadata": {},
   "source": [
    "This program will use Pygame, so it needs to be imported."
   ]
  },
  {
   "cell_type": "code",
   "execution_count": 3,
   "id": "3760e840-a895-4d19-af5f-fb23af0530f5",
   "metadata": {},
   "outputs": [
    {
     "name": "stdout",
     "output_type": "stream",
     "text": [
      "pygame 2.1.2 (SDL 2.0.18, Python 3.6.6)\n",
      "Hello from the pygame community. https://www.pygame.org/contribute.html\n"
     ]
    }
   ],
   "source": [
    "import pygame\n",
    "import time\n",
    "import random"
   ]
  },
  {
   "cell_type": "markdown",
   "id": "748a2d4d-a472-4e15-8e37-61e20a2fa516",
   "metadata": {},
   "source": [
    "Here, we define multiple colors for use later in the program. Not that the \"C\" in color is capital, because I initially did not."
   ]
  },
  {
   "cell_type": "code",
   "execution_count": 4,
   "id": "a0561f08-e5eb-465f-9a94-d52148bdefac",
   "metadata": {},
   "outputs": [],
   "source": [
    "black = pygame.Color(0, 0, 0)\n",
    "white = pygame.Color(255, 255, 255)\n",
    "lightblue = pygame.Color(152, 245, 255)\n",
    "maroon = pygame.Color(139, 26, 26)\n",
    "green = pygame.Color(34, 139, 34)"
   ]
  },
  {
   "cell_type": "markdown",
   "id": "ca4b9aa4-47ee-4b7b-b6db-e4436779054e",
   "metadata": {},
   "source": [
    "The size of the game window also needs to be defined, as does the speed of the snake."
   ]
  },
  {
   "cell_type": "code",
   "execution_count": 6,
   "id": "ca99a6e2-2be3-4180-b9fa-2e9c2cbf09b4",
   "metadata": {},
   "outputs": [],
   "source": [
    "game_width = 900\n",
    "game_height = 700\n",
    "\n",
    "snake_speed = 25"
   ]
  },
  {
   "cell_type": "markdown",
   "id": "ed2c184c-f3ce-48d0-bd10-92865a3350ee",
   "metadata": {},
   "source": [
    "Now, we initialize Pygame and set up the game window."
   ]
  },
  {
   "cell_type": "code",
   "execution_count": 7,
   "id": "27e550f6-ad04-4638-974e-04cc25ea87c9",
   "metadata": {},
   "outputs": [],
   "source": [
    "pygame.init()\n",
    "\n",
    "pygame.display.set_caption('My Snake Game')\n",
    "game_window = pygame.display.set_mode((game_width, game_height))"
   ]
  },
  {
   "cell_type": "markdown",
   "id": "228aa735-c6e3-4b46-96c5-ed7224aa7557",
   "metadata": {},
   "source": [
    "The frames per second also need to be set."
   ]
  },
  {
   "cell_type": "code",
   "execution_count": null,
   "id": "135fa67e-e7c6-4242-88dd-c25239a172b5",
   "metadata": {},
   "outputs": [],
   "source": [
    "fps = pygame.time.Clock()"
   ]
  },
  {
   "cell_type": "markdown",
   "id": "eb74affb-b50f-4ebc-9c14-5a9e0b909686",
   "metadata": {},
   "source": [
    "To play Snake, you need to have a snake! This cell defines the starting position of the snake."
   ]
  },
  {
   "cell_type": "code",
   "execution_count": null,
   "id": "74d9a2a3-f10f-4156-a6de-09942f81ac9a",
   "metadata": {},
   "outputs": [],
   "source": [
    "snake_pos = [game_width/2, game_height/2]\n",
    "\n",
    "snake = [ [game_width/2, game_height/2],\n",
    "          [game_width/2 - 25, game_height/2],\n",
    "          [game_width/2 - 50, game_height/2],\n",
    "          [game_width/2 - 75, game_height/2],\n",
    "          [game_width/2 - 100, game_height/2] ]"
   ]
  },
  {
   "cell_type": "markdown",
   "id": "02523458-6a97-4979-b41f-f818f84f72c1",
   "metadata": {},
   "source": [
    "You also need the food, so I set the initial position and a variable to track whether or not a fruit is present."
   ]
  },
  {
   "cell_type": "code",
   "execution_count": null,
   "id": "ec37caae-f00a-4914-8d7f-e18bf20398e2",
   "metadata": {},
   "outputs": [],
   "source": [
    "food_pos = [random.randrange(1, game_width//10) * 10,\n",
    "            random.randrange(1, game_height//19) * 10]\n",
    "\n",
    "food_spawned = True"
   ]
  },
  {
   "cell_type": "markdown",
   "id": "b41c9aa8-e6a5-42a0-bb69-2a093586b9cd",
   "metadata": {},
   "source": [
    "We also need to control the direction of the snake, and set the initial direction."
   ]
  },
  {
   "cell_type": "code",
   "execution_count": null,
   "id": "50957095-a488-4b69-b1d6-827907dddf18",
   "metadata": {},
   "outputs": [],
   "source": [
    "direction = 'RIGHT'\n",
    "change_dir = direction"
   ]
  },
  {
   "cell_type": "markdown",
   "id": "466ae95e-8902-49df-b64e-76a10fb86a1a",
   "metadata": {},
   "source": [
    "The last thing before the main gameplay loop is to define the game over function. This will be called when the game is lost to exit the gameplay loop."
   ]
  },
  {
   "cell_type": "code",
   "execution_count": 6,
   "id": "936d7995-d07a-4c79-98e0-922374c85dbd",
   "metadata": {},
   "outputs": [],
   "source": [
    "def game_over():\n",
    "    \n",
    "    go_font = pygame.font.SysFont('alias', 60)\n",
    "    go_surface = go_font.render('GAME OVER', True, green)\n",
    "    go_box = go_surface.get_rect()\n",
    "    go_box.midtop = (game_width/2, game_height/2)\n",
    "    game_window.blit(go_surface, go_box)\n",
    "    pygame.display.flip()\n",
    "    \n",
    "    time.sleep(4)\n",
    "    pygame.quit()\n",
    "    quit()"
   ]
  },
  {
   "cell_type": "markdown",
   "id": "125c4509-551a-4ae2-ae6b-931e2635453d",
   "metadata": {},
   "source": [
    "The remaining cells will be part of the gameplay loop, which is an endless while loop that will be written as \"while True\"."
   ]
  },
  {
   "cell_type": "markdown",
   "id": "6817a053-cc9d-4bb5-8411-e7c3d5530ff6",
   "metadata": {},
   "source": [
    "The first part will define the game controls. It will be set up to play with arrow keys or wasd."
   ]
  },
  {
   "cell_type": "code",
   "execution_count": null,
   "id": "d307dede-dd52-4a1a-bc4b-c4eea5ca377d",
   "metadata": {},
   "outputs": [],
   "source": [
    "    for event in pygame.event.get():\n",
    "        if event.type == pygame.KEYDOWN:\n",
    "            if event.key == pygame.K_UP or event.key == pygame.K_w:\n",
    "                change_dir = 'UP'\n",
    "            if event.key == pygame.K_DOWN or event.key == pygame.K_s:\n",
    "                change_dir = 'DOWN'\n",
    "            if event.key == pygame.K_LEFT or event.key == pygame.K_a:\n",
    "                change_dir = 'LEFT'\n",
    "            if event.key == pygame.K_RIGHT or event.key == pygame.K_d:\n",
    "                change_dir = 'RIGHT'"
   ]
  },
  {
   "cell_type": "markdown",
   "id": "2c497b5b-9cb0-48c6-bc0e-7c38e0d714ec",
   "metadata": {},
   "source": [
    "We don't want the game to be ended by simply telling the snake to turn around, so we will set up conditional statements to avoid this possibility."
   ]
  },
  {
   "cell_type": "code",
   "execution_count": null,
   "id": "bae3893f-bd09-4603-961e-da07db153ee5",
   "metadata": {},
   "outputs": [],
   "source": [
    "    if change_dir == 'UP' and direction != 'DOWN':\n",
    "        direction = 'UP'\n",
    "    if change_dir == 'DOWN' and direction != 'UP':\n",
    "        direction = 'DOWN'\n",
    "    if change_dir == 'LEFT' and direction != 'RIGHT':\n",
    "        direction = 'LEFT'\n",
    "    if change_dir == 'RIGHT' and direction != 'LEFT':\n",
    "        direction = 'RIGHT'"
   ]
  },
  {
   "cell_type": "markdown",
   "id": "7b821dae-f270-44f9-8f0f-52498e73cc06",
   "metadata": {},
   "source": [
    "Once this is accounted for, we can now move the snake in the correct direction."
   ]
  },
  {
   "cell_type": "code",
   "execution_count": null,
   "id": "bcfc9824-b522-42f1-9d89-cffe817ea436",
   "metadata": {},
   "outputs": [],
   "source": [
    "    if direction == 'UP':\n",
    "        snake_position[1] -= 10\n",
    "    if direction == 'DOWN':\n",
    "        snake_position[1] += 10\n",
    "    if direction == 'LEFT':\n",
    "        snake_position[0] -= 10\n",
    "    if direction == 'RIGHT':\n",
    "        snake_position[0] += 10"
   ]
  },
  {
   "cell_type": "markdown",
   "id": "ccb0355b-1ed6-43b8-90fe-545d8b7593bc",
   "metadata": {},
   "source": [
    "Now that the snake can move, we need to decide what happens when the snake reaches the food. The snake needs to get larger, and the food needs to be moved to a new location."
   ]
  },
  {
   "cell_type": "code",
   "execution_count": null,
   "id": "6e7f9cc5-c2b9-4dd6-8998-2b6490ebcab0",
   "metadata": {},
   "outputs": [],
   "source": [
    "    snake.insert(0, list(snake_pos))\n",
    "    if snake_pos[0] == food_pos[0] and snake_pos[1] == fruit_pos[1]:\n",
    "        food_spawned = False\n",
    "    else:\n",
    "        snake_body.pop()\n",
    "         \n",
    "    if not food_spawned:\n",
    "        food_pos = [random.randrange(1, (game_width//10)) * 10,\n",
    "                    random.randrange(1, (game_height//10)) * 10]\n",
    "         \n",
    "    fruit_spawn = True"
   ]
  },
  {
   "cell_type": "markdown",
   "id": "0d48f3e1-aaf5-4203-a9f7-6f8f9154ee28",
   "metadata": {},
   "source": [
    "While things have been updated on the game's end, this needs to be communicated to the player by updating the visual display."
   ]
  },
  {
   "cell_type": "code",
   "execution_count": null,
   "id": "303b13f5-e8d6-4030-b5a2-038c845d6362",
   "metadata": {},
   "outputs": [],
   "source": [
    "    game_window.fill(lightblue)\n",
    "     \n",
    "    for pos in snake_body:\n",
    "        pygame.draw.rect(game_window, maroon, pygame.Rect(\n",
    "          pos[0], pos[1], 10, 10))\n",
    "         \n",
    "    pygame.draw.rect(game_window, white, pygame.Rect(\n",
    "      food_pos[0], food_pos[1], 10, 10))"
   ]
  },
  {
   "cell_type": "markdown",
   "id": "0ebae11b-ac9d-4abd-9774-083176306b26",
   "metadata": {},
   "source": [
    "We now set up the game over conditions: when the snake hits the edge of the game window or runs into itself."
   ]
  },
  {
   "cell_type": "code",
   "execution_count": null,
   "id": "b13864d3-b623-44d8-95ec-34e7c3bb4d23",
   "metadata": {},
   "outputs": [],
   "source": [
    "    if snake_pos[0] < 0 or snake_position[0] > game_width-10:\n",
    "        game_over()\n",
    "    if snake_pos[1] < 0 or snake_position[1] > game_height-10:\n",
    "        game_over()\n",
    "     \n",
    "    for block in snake[1:]:\n",
    "        if snake_pos[0] == block[0] and snake_pos[1] == block[1]:\n",
    "            game_over()"
   ]
  },
  {
   "cell_type": "markdown",
   "id": "abfe1085-2ec0-4191-a5c7-c8f1e6ca3b29",
   "metadata": {},
   "source": [
    "We finish the loop by refreshing the game screen and frames per second."
   ]
  },
  {
   "cell_type": "code",
   "execution_count": null,
   "id": "0698de48-14b1-4e42-abb2-034a9ac61ba8",
   "metadata": {},
   "outputs": [],
   "source": [
    "    pygame.display.update()\n",
    "\n",
    "    fps.tick(snake_speed)"
   ]
  },
  {
   "cell_type": "markdown",
   "id": "c8060fce-738d-4d43-a973-1856bbcc4a51",
   "metadata": {},
   "source": [
    "When we put everything together, it will run the game!"
   ]
  },
  {
   "cell_type": "code",
   "execution_count": 1,
   "id": "3a18cb11-fc43-4674-8546-4b6a47cb23a9",
   "metadata": {
    "collapsed": true,
    "jupyter": {
     "outputs_hidden": true
    },
    "tags": []
   },
   "outputs": [
    {
     "name": "stdout",
     "output_type": "stream",
     "text": [
      "pygame 2.1.2 (SDL 2.0.18, Python 3.6.6)\n",
      "Hello from the pygame community. https://www.pygame.org/contribute.html\n"
     ]
    },
    {
     "ename": "error",
     "evalue": "video system not initialized",
     "output_type": "error",
     "traceback": [
      "\u001b[1;31m---------------------------------------------------------------------------\u001b[0m",
      "\u001b[1;31merror\u001b[0m                                     Traceback (most recent call last)",
      "\u001b[1;32m<ipython-input-1-8f58e8156f08>\u001b[0m in \u001b[0;36m<module>\u001b[1;34m\u001b[0m\n\u001b[0;32m    111\u001b[0m             \u001b[0mgame_over\u001b[0m\u001b[1;33m(\u001b[0m\u001b[1;33m)\u001b[0m\u001b[1;33m\u001b[0m\u001b[0m\n\u001b[0;32m    112\u001b[0m \u001b[1;33m\u001b[0m\u001b[0m\n\u001b[1;32m--> 113\u001b[1;33m     \u001b[0mpygame\u001b[0m\u001b[1;33m.\u001b[0m\u001b[0mdisplay\u001b[0m\u001b[1;33m.\u001b[0m\u001b[0mupdate\u001b[0m\u001b[1;33m(\u001b[0m\u001b[1;33m)\u001b[0m\u001b[1;33m\u001b[0m\u001b[0m\n\u001b[0m\u001b[0;32m    114\u001b[0m \u001b[1;33m\u001b[0m\u001b[0m\n\u001b[0;32m    115\u001b[0m     \u001b[0mfps\u001b[0m\u001b[1;33m.\u001b[0m\u001b[0mtick\u001b[0m\u001b[1;33m(\u001b[0m\u001b[0msnake_speed\u001b[0m\u001b[1;33m)\u001b[0m\u001b[1;33m\u001b[0m\u001b[0m\n",
      "\u001b[1;31merror\u001b[0m: video system not initialized"
     ]
    }
   ],
   "source": [
    "import pygame\n",
    "import time\n",
    "import random\n",
    "\n",
    "black = pygame.Color(0, 0, 0)\n",
    "white = pygame.Color(255, 255, 255)\n",
    "lightblue = pygame.Color(152, 245, 255)\n",
    "maroon = pygame.Color(139, 26, 26)\n",
    "green = pygame.Color(34, 139, 34)\n",
    "purple = pygame.Color(104, 34, 139)\n",
    "\n",
    "game_width = 900\n",
    "game_height = 700\n",
    "\n",
    "snake_speed = 10\n",
    "\n",
    "pygame.init()\n",
    "\n",
    "pygame.display.set_caption('My Snake Game')\n",
    "game_window = pygame.display.set_mode((game_width, game_height))\n",
    "\n",
    "fps = pygame.time.Clock()\n",
    "\n",
    "snake_pos = [game_width/2, game_height/2]\n",
    "\n",
    "snake = [ [game_width/2, game_height/2],\n",
    "          [game_width/2 - 10, game_height/2],\n",
    "          [game_width/2 - 20, game_height/2],\n",
    "          [game_width/2 - 30, game_height/2],\n",
    "          [game_width/2 - 40, game_height/2] ]\n",
    "\n",
    "food_pos = [random.randrange(1, game_width//10) * 10,\n",
    "            random.randrange(1, game_height//10) * 10]\n",
    "\n",
    "food_spawned = True\n",
    "\n",
    "direction = 'RIGHT'\n",
    "change_dir = direction\n",
    "\n",
    "def game_over():\n",
    "    \n",
    "    go_font = pygame.font.SysFont('alias', 60)\n",
    "    go_surface = go_font.render('GAME OVER', True, green)\n",
    "    go_box = go_surface.get_rect()\n",
    "    go_box.midtop = (game_width/2, game_height/2)\n",
    "    game_window.blit(go_surface, go_box)\n",
    "    pygame.display.flip()\n",
    "    \n",
    "    time.sleep(4)\n",
    "    pygame.quit()\n",
    "    quit()\n",
    "    \n",
    "while True:\n",
    "    \n",
    "    for event in pygame.event.get():\n",
    "        if event.type == pygame.KEYDOWN:\n",
    "            if event.key == pygame.K_UP or event.key == pygame.K_w:\n",
    "                change_dir = 'UP'\n",
    "            if event.key == pygame.K_DOWN or event.key == pygame.K_s:\n",
    "                change_dir = 'DOWN'\n",
    "            if event.key == pygame.K_LEFT or event.key == pygame.K_a:\n",
    "                change_dir = 'LEFT'\n",
    "            if event.key == pygame.K_RIGHT or event.key == pygame.K_d:\n",
    "                change_dir = 'RIGHT'\n",
    "                \n",
    "    if change_dir == 'UP' and direction != 'DOWN':\n",
    "        direction = 'UP'\n",
    "    if change_dir == 'DOWN' and direction != 'UP':\n",
    "        direction = 'DOWN'\n",
    "    if change_dir == 'LEFT' and direction != 'RIGHT':\n",
    "        direction = 'LEFT'\n",
    "    if change_dir == 'RIGHT' and direction != 'LEFT':\n",
    "        direction = 'RIGHT'\n",
    "        \n",
    "    if direction == 'UP':\n",
    "        snake_pos[1] -= 10\n",
    "    if direction == 'DOWN':\n",
    "        snake_pos[1] += 10\n",
    "    if direction == 'LEFT':\n",
    "        snake_pos[0] -= 10\n",
    "    if direction == 'RIGHT':\n",
    "        snake_pos[0] += 10\n",
    "        \n",
    "    snake.insert(0, list(snake_pos))\n",
    "    if snake_pos[0] == food_pos[0] and snake_pos[1] == food_pos[1]:\n",
    "        food_spawned = False\n",
    "    else:\n",
    "        snake.pop()\n",
    "         \n",
    "    if not food_spawned:\n",
    "        food_pos = [random.randrange(1, (game_width//10)) * 10,\n",
    "                    random.randrange(1, (game_height//10)) * 10]\n",
    "         \n",
    "    food_spawned = True\n",
    "    \n",
    "    game_window.fill(lightblue)\n",
    "     \n",
    "    for pos in snake:\n",
    "        pygame.draw.rect(game_window, maroon, pygame.Rect(\n",
    "          pos[0], pos[1], 10, 10))\n",
    "         \n",
    "    pygame.draw.rect(game_window, green, pygame.Rect(\n",
    "      food_pos[0], food_pos[1], 10, 10))\n",
    "    \n",
    "    if snake_pos[0] < 0 or snake_pos[0] > game_width-10:\n",
    "        game_over()\n",
    "    if snake_pos[1] < 0 or snake_pos[1] > game_height-10:\n",
    "        game_over()\n",
    "     \n",
    "    for block in snake[1:]:\n",
    "        if snake_pos[0] == block[0] and snake_pos[1] == block[1]:\n",
    "            game_over()\n",
    "            \n",
    "    pygame.display.update()\n",
    "\n",
    "    fps.tick(snake_speed)"
   ]
  },
  {
   "cell_type": "markdown",
   "id": "bf88d8da-2c51-4cb2-993d-20d495d2938a",
   "metadata": {},
   "source": [
    "Now, I want to add a condition for the game to start, so the player won't lose before being able to use any inputs. I plan to do this by updating the condition of the while loop. However, this also means likely needing to move an initial generation of the board outside of the loop."
   ]
  },
  {
   "cell_type": "code",
   "execution_count": null,
   "id": "c3ec52b0-fabb-4686-bf25-4f8e00376f71",
   "metadata": {},
   "outputs": [],
   "source": [
    "Actually, it ended up seeming simpler to just add a while loop before the gameplay loop."
   ]
  },
  {
   "cell_type": "code",
   "execution_count": 1,
   "id": "d6a65537-44e7-42b8-8a8d-369a3f9f3366",
   "metadata": {
    "collapsed": true,
    "jupyter": {
     "outputs_hidden": true
    },
    "tags": []
   },
   "outputs": [
    {
     "ename": "NameError",
     "evalue": "name 'game_window' is not defined",
     "output_type": "error",
     "traceback": [
      "\u001b[1;31m---------------------------------------------------------------------------\u001b[0m",
      "\u001b[1;31mNameError\u001b[0m                                 Traceback (most recent call last)",
      "\u001b[1;32m<ipython-input-1-80083b4a8818>\u001b[0m in \u001b[0;36m<module>\u001b[1;34m\u001b[0m\n\u001b[0;32m      1\u001b[0m \u001b[1;32mwhile\u001b[0m \u001b[1;32mTrue\u001b[0m\u001b[1;33m:\u001b[0m\u001b[1;33m\u001b[0m\u001b[0m\n\u001b[0;32m      2\u001b[0m \u001b[1;33m\u001b[0m\u001b[0m\n\u001b[1;32m----> 3\u001b[1;33m     \u001b[0mgame_window\u001b[0m\u001b[1;33m.\u001b[0m\u001b[0mfill\u001b[0m\u001b[1;33m(\u001b[0m\u001b[0mlightblue\u001b[0m\u001b[1;33m)\u001b[0m\u001b[1;33m\u001b[0m\u001b[0m\n\u001b[0m\u001b[0;32m      4\u001b[0m \u001b[1;33m\u001b[0m\u001b[0m\n\u001b[0;32m      5\u001b[0m     \u001b[1;32mfor\u001b[0m \u001b[0mpos\u001b[0m \u001b[1;32min\u001b[0m \u001b[0msnake\u001b[0m\u001b[1;33m:\u001b[0m\u001b[1;33m\u001b[0m\u001b[0m\n",
      "\u001b[1;31mNameError\u001b[0m: name 'game_window' is not defined"
     ]
    }
   ],
   "source": [
    "game_started = False\n",
    "   \n",
    "while game_started == False:\n",
    "    \n",
    "    game_window.fill(lightblue)\n",
    "     \n",
    "    for pos in snake:\n",
    "        pygame.draw.rect(game_window, maroon, pygame.Rect(\n",
    "          pos[0], pos[1], 10, 10))\n",
    "        \n",
    "    start_font = pygame.font.SysFont('alias', 60)\n",
    "    start_surface = start_font.render('PRESS SPACE TO START', True, purple)\n",
    "    start_box = start_surface.get_rect()\n",
    "    start_box.midtop = (game_width/2, game_height/2 + game_height/4)\n",
    "    game_window.blit(start_surface, start_box)\n",
    "    \n",
    "    title_font = pygame.font.SysFont('alias', 100)\n",
    "    title_surface = title_font.render('SNAKE BY CASE', True, green)\n",
    "    title_box = title_surface.get_rect()\n",
    "    title_box.midtop = (game_width/2, game_height/2 - game_height/4)\n",
    "    game_window.blit(title_surface, title_box)\n",
    "    pygame.display.flip()\n",
    "    \n",
    "    for event in pygame.event.get():\n",
    "        if event.type == pygame.KEYDOWN:\n",
    "            if event.key == pygame.K_SPACE:\n",
    "                game_started = True"
   ]
  },
  {
   "cell_type": "markdown",
   "id": "f61fb545-fe32-46f0-86c7-8498a4dfe8f6",
   "metadata": {},
   "source": [
    "Now we add the start screen loop to the code."
   ]
  },
  {
   "cell_type": "code",
   "execution_count": 1,
   "id": "812ece5a-0a1c-4c81-8aea-3682dd44ee6d",
   "metadata": {},
   "outputs": [
    {
     "name": "stdout",
     "output_type": "stream",
     "text": [
      "pygame 2.1.2 (SDL 2.0.18, Python 3.6.6)\n",
      "Hello from the pygame community. https://www.pygame.org/contribute.html\n"
     ]
    },
    {
     "ename": "error",
     "evalue": "video system not initialized",
     "output_type": "error",
     "traceback": [
      "\u001b[1;31m---------------------------------------------------------------------------\u001b[0m",
      "\u001b[1;31merror\u001b[0m                                     Traceback (most recent call last)",
      "\u001b[1;32m<ipython-input-1-b0b0a29243af>\u001b[0m in \u001b[0;36m<module>\u001b[1;34m\u001b[0m\n\u001b[0;32m    152\u001b[0m             \u001b[0mgame_over\u001b[0m\u001b[1;33m(\u001b[0m\u001b[1;33m)\u001b[0m\u001b[1;33m\u001b[0m\u001b[0m\n\u001b[0;32m    153\u001b[0m \u001b[1;33m\u001b[0m\u001b[0m\n\u001b[1;32m--> 154\u001b[1;33m     \u001b[0mpygame\u001b[0m\u001b[1;33m.\u001b[0m\u001b[0mdisplay\u001b[0m\u001b[1;33m.\u001b[0m\u001b[0mupdate\u001b[0m\u001b[1;33m(\u001b[0m\u001b[1;33m)\u001b[0m\u001b[1;33m\u001b[0m\u001b[0m\n\u001b[0m\u001b[0;32m    155\u001b[0m \u001b[1;33m\u001b[0m\u001b[0m\n\u001b[0;32m    156\u001b[0m     \u001b[0mfps\u001b[0m\u001b[1;33m.\u001b[0m\u001b[0mtick\u001b[0m\u001b[1;33m(\u001b[0m\u001b[0msnake_speed\u001b[0m\u001b[1;33m)\u001b[0m\u001b[1;33m\u001b[0m\u001b[0m\n",
      "\u001b[1;31merror\u001b[0m: video system not initialized"
     ]
    }
   ],
   "source": [
    "import pygame\n",
    "import time\n",
    "import random\n",
    "\n",
    "black = pygame.Color(0, 0, 0)\n",
    "white = pygame.Color(255, 255, 255)\n",
    "lightblue = pygame.Color(152, 245, 255)\n",
    "maroon = pygame.Color(139, 26, 26)\n",
    "green = pygame.Color(34, 139, 34)\n",
    "purple = pygame.Color(104, 34, 139)\n",
    "\n",
    "game_width = 900\n",
    "game_height = 700\n",
    "\n",
    "snake_speed = 20\n",
    "\n",
    "pygame.init()\n",
    "\n",
    "pygame.display.set_caption('My Snake Game')\n",
    "game_window = pygame.display.set_mode((game_width, game_height))\n",
    "\n",
    "fps = pygame.time.Clock()\n",
    "\n",
    "snake_pos = [game_width/2, game_height/2]\n",
    "\n",
    "snake = [ [game_width/2, game_height/2],\n",
    "          [game_width/2 - 10, game_height/2],\n",
    "          [game_width/2 - 20, game_height/2],\n",
    "          [game_width/2 - 30, game_height/2],\n",
    "          [game_width/2 - 40, game_height/2] ]\n",
    "\n",
    "food_pos = [random.randrange(1, game_width//10) * 10,\n",
    "            random.randrange(1, game_height//10) * 10]\n",
    "\n",
    "food_spawned = True\n",
    "\n",
    "direction = 'RIGHT'\n",
    "change_dir = direction\n",
    "\n",
    "def game_over():\n",
    "    \n",
    "    go_font = pygame.font.SysFont('alias', 60)\n",
    "    go_surface = go_font.render('GAME OVER', True, green)\n",
    "    go_box = go_surface.get_rect()\n",
    "    go_box.midtop = (game_width/2, game_height/2)\n",
    "    game_window.blit(go_surface, go_box)\n",
    "    pygame.display.flip()\n",
    "    \n",
    "    time.sleep(4)\n",
    "    pygame.quit()\n",
    "    quit()\n",
    "    \n",
    "game_started = False\n",
    "\n",
    "\n",
    "    \n",
    "##################################################################################################\n",
    "##########################################START SCREEN LOOP#######################################\n",
    "##################################################################################################\n",
    "    \n",
    "while game_started == False:\n",
    "    \n",
    "    game_window.fill(lightblue)\n",
    "     \n",
    "    for pos in snake:\n",
    "        pygame.draw.rect(game_window, maroon, pygame.Rect(\n",
    "          pos[0], pos[1], 10, 10))\n",
    "        \n",
    "    start_font = pygame.font.SysFont('alias', 60)\n",
    "    start_surface = start_font.render('PRESS SPACE TO START', True, purple)\n",
    "    start_box = start_surface.get_rect()\n",
    "    start_box.midtop = (game_width/2, game_height/2 + game_height/4)\n",
    "    game_window.blit(start_surface, start_box)\n",
    "    \n",
    "    title_font = pygame.font.SysFont('alias', 100)\n",
    "    title_surface = title_font.render('SNAKE BY CASE', True, green)\n",
    "    title_box = title_surface.get_rect()\n",
    "    title_box.midtop = (game_width/2, game_height/2 - game_height/4)\n",
    "    game_window.blit(title_surface, title_box)\n",
    "    pygame.display.flip()\n",
    "    \n",
    "    for event in pygame.event.get():\n",
    "        if event.type == pygame.KEYDOWN:\n",
    "            if event.key == pygame.K_SPACE:\n",
    "                game_started = True\n",
    "                \n",
    "                \n",
    "    \n",
    "##################################################################################################\n",
    "###########################################GAMEPLAY LOOP##########################################\n",
    "##################################################################################################    \n",
    "    \n",
    "while True:\n",
    "    \n",
    "    for event in pygame.event.get():\n",
    "        if event.type == pygame.KEYDOWN:\n",
    "            if event.key == pygame.K_UP or event.key == pygame.K_w:\n",
    "                change_dir = 'UP'\n",
    "            if event.key == pygame.K_DOWN or event.key == pygame.K_s:\n",
    "                change_dir = 'DOWN'\n",
    "            if event.key == pygame.K_LEFT or event.key == pygame.K_a:\n",
    "                change_dir = 'LEFT'\n",
    "            if event.key == pygame.K_RIGHT or event.key == pygame.K_d:\n",
    "                change_dir = 'RIGHT'\n",
    "                \n",
    "    if change_dir == 'UP' and direction != 'DOWN':\n",
    "        direction = 'UP'\n",
    "    if change_dir == 'DOWN' and direction != 'UP':\n",
    "        direction = 'DOWN'\n",
    "    if change_dir == 'LEFT' and direction != 'RIGHT':\n",
    "        direction = 'LEFT'\n",
    "    if change_dir == 'RIGHT' and direction != 'LEFT':\n",
    "        direction = 'RIGHT'\n",
    "        \n",
    "    if direction == 'UP':\n",
    "        snake_pos[1] -= 10\n",
    "    if direction == 'DOWN':\n",
    "        snake_pos[1] += 10\n",
    "    if direction == 'LEFT':\n",
    "        snake_pos[0] -= 10\n",
    "    if direction == 'RIGHT':\n",
    "        snake_pos[0] += 10\n",
    "        \n",
    "    snake.insert(0, list(snake_pos))\n",
    "    if snake_pos[0] == food_pos[0] and snake_pos[1] == food_pos[1]:\n",
    "        food_spawned = False\n",
    "    else:\n",
    "        snake.pop()\n",
    "         \n",
    "    if not food_spawned:\n",
    "        food_pos = [random.randrange(1, (game_width//10)) * 10,\n",
    "                    random.randrange(1, (game_height//10)) * 10]\n",
    "         \n",
    "    food_spawned = True\n",
    "    \n",
    "    game_window.fill(lightblue)\n",
    "     \n",
    "    for pos in snake:\n",
    "        pygame.draw.rect(game_window, maroon, pygame.Rect(\n",
    "          pos[0], pos[1], 10, 10))\n",
    "         \n",
    "    pygame.draw.rect(game_window, green, pygame.Rect(\n",
    "      food_pos[0], food_pos[1], 10, 10))\n",
    "    \n",
    "    if snake_pos[0] < 0 or snake_pos[0] > game_width-10:\n",
    "        game_over()\n",
    "    if snake_pos[1] < 0 or snake_pos[1] > game_height-10:\n",
    "        game_over()\n",
    "     \n",
    "    for block in snake[1:]:\n",
    "        if snake_pos[0] == block[0] and snake_pos[1] == block[1]:\n",
    "            game_over()\n",
    "            \n",
    "    pygame.display.update()\n",
    "\n",
    "    fps.tick(snake_speed)"
   ]
  },
  {
   "cell_type": "markdown",
   "id": "f3f7aa74-ead7-4fca-9a95-f02b5c3c78b9",
   "metadata": {},
   "source": [
    "I would like to keep the game window large, but the snake is too small, and it would take far too long for the game to become challenging. To fix this, we can make the snake bigger."
   ]
  },
  {
   "cell_type": "code",
   "execution_count": 1,
   "id": "21a330dd-ecf4-42b1-bcb2-878971b4053f",
   "metadata": {},
   "outputs": [
    {
     "name": "stdout",
     "output_type": "stream",
     "text": [
      "pygame 2.1.2 (SDL 2.0.18, Python 3.6.6)\n",
      "Hello from the pygame community. https://www.pygame.org/contribute.html\n"
     ]
    },
    {
     "ename": "error",
     "evalue": "video system not initialized",
     "output_type": "error",
     "traceback": [
      "\u001b[1;31m---------------------------------------------------------------------------\u001b[0m",
      "\u001b[1;31merror\u001b[0m                                     Traceback (most recent call last)",
      "\u001b[1;32m<ipython-input-1-fcd70c53208f>\u001b[0m in \u001b[0;36m<module>\u001b[1;34m\u001b[0m\n\u001b[0;32m    152\u001b[0m             \u001b[0mgame_over\u001b[0m\u001b[1;33m(\u001b[0m\u001b[1;33m)\u001b[0m\u001b[1;33m\u001b[0m\u001b[0m\n\u001b[0;32m    153\u001b[0m \u001b[1;33m\u001b[0m\u001b[0m\n\u001b[1;32m--> 154\u001b[1;33m     \u001b[0mpygame\u001b[0m\u001b[1;33m.\u001b[0m\u001b[0mdisplay\u001b[0m\u001b[1;33m.\u001b[0m\u001b[0mupdate\u001b[0m\u001b[1;33m(\u001b[0m\u001b[1;33m)\u001b[0m\u001b[1;33m\u001b[0m\u001b[0m\n\u001b[0m\u001b[0;32m    155\u001b[0m \u001b[1;33m\u001b[0m\u001b[0m\n\u001b[0;32m    156\u001b[0m     \u001b[0mfps\u001b[0m\u001b[1;33m.\u001b[0m\u001b[0mtick\u001b[0m\u001b[1;33m(\u001b[0m\u001b[0msnake_speed\u001b[0m\u001b[1;33m)\u001b[0m\u001b[1;33m\u001b[0m\u001b[0m\n",
      "\u001b[1;31merror\u001b[0m: video system not initialized"
     ]
    }
   ],
   "source": [
    "import pygame\n",
    "import time\n",
    "import random\n",
    "\n",
    "black = pygame.Color(0, 0, 0)\n",
    "white = pygame.Color(255, 255, 255)\n",
    "lightblue = pygame.Color(152, 245, 255)\n",
    "maroon = pygame.Color(139, 26, 26)\n",
    "green = pygame.Color(34, 139, 34)\n",
    "purple = pygame.Color(104, 34, 139)\n",
    "\n",
    "game_width = 900\n",
    "game_height = 700\n",
    "\n",
    "snake_speed = 15\n",
    "\n",
    "pygame.init()\n",
    "\n",
    "pygame.display.set_caption('My Snake Game')\n",
    "game_window = pygame.display.set_mode((game_width, game_height))\n",
    "\n",
    "fps = pygame.time.Clock()\n",
    "\n",
    "snake_pos = [game_width/2, game_height/2]\n",
    "\n",
    "snake = [ [game_width/2, game_height/2],\n",
    "          [game_width/2 - 25, game_height/2],\n",
    "          [game_width/2 - 50, game_height/2],\n",
    "          [game_width/2 - 75, game_height/2],\n",
    "          [game_width/2 - 100, game_height/2] ]\n",
    "\n",
    "food_pos = [random.randrange(1, game_width//25) * 25,\n",
    "            random.randrange(1, game_height//25) * 25]\n",
    "\n",
    "food_spawned = True\n",
    "\n",
    "direction = 'RIGHT'\n",
    "change_dir = direction\n",
    "\n",
    "def game_over():\n",
    "    \n",
    "    go_font = pygame.font.SysFont('alias', 60)\n",
    "    go_surface = go_font.render('GAME OVER', True, green)\n",
    "    go_box = go_surface.get_rect()\n",
    "    go_box.midtop = (game_width/2, game_height/2)\n",
    "    game_window.blit(go_surface, go_box)\n",
    "    pygame.display.flip()\n",
    "    \n",
    "    time.sleep(4)\n",
    "    pygame.quit()\n",
    "    quit()\n",
    "    \n",
    "game_started = False\n",
    "\n",
    "\n",
    "    \n",
    "##################################################################################################\n",
    "##########################################START SCREEN LOOP#######################################\n",
    "##################################################################################################\n",
    "    \n",
    "while game_started == False:\n",
    "    \n",
    "    game_window.fill(lightblue)\n",
    "     \n",
    "    for pos in snake:\n",
    "        pygame.draw.rect(game_window, maroon, pygame.Rect(\n",
    "          pos[0], pos[1], 25, 25))\n",
    "        \n",
    "    start_font = pygame.font.SysFont('alias', 60)\n",
    "    start_surface = start_font.render('PRESS SPACE TO START', True, purple)\n",
    "    start_box = start_surface.get_rect()\n",
    "    start_box.midtop = (game_width/2, game_height/2 + game_height/4)\n",
    "    game_window.blit(start_surface, start_box)\n",
    "    \n",
    "    title_font = pygame.font.SysFont('alias', 100)\n",
    "    title_surface = title_font.render('SNAKE BY CASE', True, green)\n",
    "    title_box = title_surface.get_rect()\n",
    "    title_box.midtop = (game_width/2, game_height/2 - game_height/4)\n",
    "    game_window.blit(title_surface, title_box)\n",
    "    pygame.display.flip()\n",
    "    \n",
    "    for event in pygame.event.get():\n",
    "        if event.type == pygame.KEYDOWN:\n",
    "            if event.key == pygame.K_SPACE:\n",
    "                game_started = True\n",
    "                \n",
    "                \n",
    "    \n",
    "##################################################################################################\n",
    "###########################################GAMEPLAY LOOP##########################################\n",
    "##################################################################################################    \n",
    "    \n",
    "while True:\n",
    "    \n",
    "    for event in pygame.event.get():\n",
    "        if event.type == pygame.KEYDOWN:\n",
    "            if event.key == pygame.K_UP or event.key == pygame.K_w:\n",
    "                change_dir = 'UP'\n",
    "            if event.key == pygame.K_DOWN or event.key == pygame.K_s:\n",
    "                change_dir = 'DOWN'\n",
    "            if event.key == pygame.K_LEFT or event.key == pygame.K_a:\n",
    "                change_dir = 'LEFT'\n",
    "            if event.key == pygame.K_RIGHT or event.key == pygame.K_d:\n",
    "                change_dir = 'RIGHT'\n",
    "                \n",
    "    if change_dir == 'UP' and direction != 'DOWN':\n",
    "        direction = 'UP'\n",
    "    if change_dir == 'DOWN' and direction != 'UP':\n",
    "        direction = 'DOWN'\n",
    "    if change_dir == 'LEFT' and direction != 'RIGHT':\n",
    "        direction = 'LEFT'\n",
    "    if change_dir == 'RIGHT' and direction != 'LEFT':\n",
    "        direction = 'RIGHT'\n",
    "        \n",
    "    if direction == 'UP':\n",
    "        snake_pos[1] -= 25\n",
    "    if direction == 'DOWN':\n",
    "        snake_pos[1] += 25\n",
    "    if direction == 'LEFT':\n",
    "        snake_pos[0] -= 25\n",
    "    if direction == 'RIGHT':\n",
    "        snake_pos[0] += 25\n",
    "        \n",
    "    snake.insert(0, list(snake_pos))\n",
    "    if snake_pos[0] == food_pos[0] and snake_pos[1] == food_pos[1]:\n",
    "        food_spawned = False\n",
    "    else:\n",
    "        snake.pop()\n",
    "         \n",
    "    if not food_spawned:\n",
    "        food_pos = [random.randrange(1, (game_width//25)) * 25,\n",
    "                    random.randrange(1, (game_height//25)) * 25]\n",
    "         \n",
    "    food_spawned = True\n",
    "    \n",
    "    game_window.fill(lightblue)\n",
    "     \n",
    "    for pos in snake:\n",
    "        pygame.draw.rect(game_window, maroon, pygame.Rect(\n",
    "          pos[0], pos[1], 25, 25))\n",
    "         \n",
    "    pygame.draw.rect(game_window, green, pygame.Rect(\n",
    "      food_pos[0], food_pos[1], 25, 25))\n",
    "    \n",
    "    if snake_pos[0] < 0 or snake_pos[0] > game_width-25:\n",
    "        game_over()\n",
    "    if snake_pos[1] < 0 or snake_pos[1] > game_height-25:\n",
    "        game_over()\n",
    "     \n",
    "    for block in snake[1:]:\n",
    "        if snake_pos[0] == block[0] and snake_pos[1] == block[1]:\n",
    "            game_over()\n",
    "            \n",
    "    pygame.display.update()\n",
    "\n",
    "    fps.tick(snake_speed)"
   ]
  },
  {
   "cell_type": "code",
   "execution_count": null,
   "id": "8bf341ce-5da0-4a05-b5cf-dede3bebc739",
   "metadata": {},
   "outputs": [],
   "source": []
  }
 ],
 "metadata": {
  "kernelspec": {
   "display_name": "Python 3",
   "language": "python",
   "name": "python3"
  },
  "language_info": {
   "codemirror_mode": {
    "name": "ipython",
    "version": 3
   },
   "file_extension": ".py",
   "mimetype": "text/x-python",
   "name": "python",
   "nbconvert_exporter": "python",
   "pygments_lexer": "ipython3",
   "version": "3.6.6"
  }
 },
 "nbformat": 4,
 "nbformat_minor": 5
}
